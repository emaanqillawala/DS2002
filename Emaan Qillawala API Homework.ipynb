{
 "cells": [
  {
   "cell_type": "markdown",
   "metadata": {},
   "source": [
    "# Emaan Qillawala\n",
    "# DS 2002: API Cals Homework - Country Information Retrieval\n",
    "# Due: 2/29/24"
   ]
  },
  {
   "cell_type": "code",
   "execution_count": 1,
   "metadata": {},
   "outputs": [],
   "source": [
    "# Import libraries\n",
    "\n",
    "import os\n",
    "import json\n",
    "import pprint\n",
    "import requests\n",
    "import requests.exceptions\n",
    "import pandas as pd"
   ]
  },
  {
   "cell_type": "markdown",
   "metadata": {},
   "source": [
    "### Display dataframe of all of the countries on the REST Countries API"
   ]
  },
  {
   "cell_type": "code",
   "execution_count": 2,
   "metadata": {},
   "outputs": [
    {
     "name": "stdout",
     "output_type": "stream",
     "text": [
      "                       tld cca2 ccn3 cca3 cioc independent  \\\n",
      "0                    [.cy]   CY  196  CYP  CYP        True   \n",
      "1                    [.er]   ER  232  ERI  ERI        True   \n",
      "2                    [.lr]   LR  430  LBR  LBR        True   \n",
      "3                    [.bm]   BM  060  BMU  BER       False   \n",
      "4                    [.va]   VA  336  VAT  NaN        True   \n",
      "..                     ...  ...  ...  ...  ...         ...   \n",
      "245                  [.ss]   SS  728  SSD  SSD        True   \n",
      "246                  [.hn]   HN  340  HND  HON        True   \n",
      "247                  [.vc]   VC  670  VCT  VIN        True   \n",
      "248  [.lk, .இலங்கை, .ලංකා]   LK  144  LKA  SRI        True   \n",
      "249             [.hk, .香港]   HK  344  HKG  HKG       False   \n",
      "\n",
      "                  status  unMember                      capital  \\\n",
      "0    officially-assigned      True                    [Nicosia]   \n",
      "1    officially-assigned      True                     [Asmara]   \n",
      "2    officially-assigned      True                   [Monrovia]   \n",
      "3    officially-assigned     False                   [Hamilton]   \n",
      "4    officially-assigned      True               [Vatican City]   \n",
      "..                   ...       ...                          ...   \n",
      "245  officially-assigned      True                       [Juba]   \n",
      "246  officially-assigned      True                [Tegucigalpa]   \n",
      "247  officially-assigned      True                  [Kingstown]   \n",
      "248  officially-assigned      True  [Sri Jayawardenepura Kotte]   \n",
      "249  officially-assigned     False           [City of Victoria]   \n",
      "\n",
      "                                          altSpellings  ...  \\\n",
      "0    [CY, Kýpros, Kıbrıs, Republic of Cyprus, Κυπρι...  ...   \n",
      "1    [ER, State of Eritrea, ሃገረ ኤርትራ, Dawlat Iritri...  ...   \n",
      "2                            [LR, Republic of Liberia]  ...   \n",
      "3    [BM, The Islands of Bermuda, The Bermudas, Som...  ...   \n",
      "4    [VA, Holy See (Vatican City State), Vatican Ci...  ...   \n",
      "..                                                 ...  ...   \n",
      "245                                               [SS]  ...   \n",
      "246  [HN, Republic of Honduras, República de Honduras]  ...   \n",
      "247                                               [VC]  ...   \n",
      "248  [LK, ilaṅkai, Democratic Socialist Republic of...  ...   \n",
      "249                                               [HK]  ...   \n",
      "\n",
      "    currencies.SSP.symbol currencies.HNL.name currencies.HNL.symbol  \\\n",
      "0                     NaN                 NaN                   NaN   \n",
      "1                     NaN                 NaN                   NaN   \n",
      "2                     NaN                 NaN                   NaN   \n",
      "3                     NaN                 NaN                   NaN   \n",
      "4                     NaN                 NaN                   NaN   \n",
      "..                    ...                 ...                   ...   \n",
      "245                     £                 NaN                   NaN   \n",
      "246                   NaN    Honduran lempira                     L   \n",
      "247                   NaN                 NaN                   NaN   \n",
      "248                   NaN                 NaN                   NaN   \n",
      "249                   NaN                 NaN                   NaN   \n",
      "\n",
      "                   name.nativeName.sin.official  name.nativeName.sin.common  \\\n",
      "0                                           NaN                         NaN   \n",
      "1                                           NaN                         NaN   \n",
      "2                                           NaN                         NaN   \n",
      "3                                           NaN                         NaN   \n",
      "4                                           NaN                         NaN   \n",
      "..                                          ...                         ...   \n",
      "245                                         NaN                         NaN   \n",
      "246                                         NaN                         NaN   \n",
      "247                                         NaN                         NaN   \n",
      "248  ශ්‍රී ලංකා ප්‍රජාතාන්ත්‍රික සමාජවාදී ජනරජය                 ශ්‍රී ලංකාව   \n",
      "249                                         NaN                         NaN   \n",
      "\n",
      "    currencies.LKR.name  currencies.LKR.symbol languages.sin  \\\n",
      "0                   NaN                    NaN           NaN   \n",
      "1                   NaN                    NaN           NaN   \n",
      "2                   NaN                    NaN           NaN   \n",
      "3                   NaN                    NaN           NaN   \n",
      "4                   NaN                    NaN           NaN   \n",
      "..                  ...                    ...           ...   \n",
      "245                 NaN                    NaN           NaN   \n",
      "246                 NaN                    NaN           NaN   \n",
      "247                 NaN                    NaN           NaN   \n",
      "248    Sri Lankan rupee                 Rs  රු       Sinhala   \n",
      "249                 NaN                    NaN           NaN   \n",
      "\n",
      "    currencies.HKD.name currencies.HKD.symbol  \n",
      "0                   NaN                   NaN  \n",
      "1                   NaN                   NaN  \n",
      "2                   NaN                   NaN  \n",
      "3                   NaN                   NaN  \n",
      "4                   NaN                   NaN  \n",
      "..                  ...                   ...  \n",
      "245                 NaN                   NaN  \n",
      "246                 NaN                   NaN  \n",
      "247                 NaN                   NaN  \n",
      "248                 NaN                   NaN  \n",
      "249    Hong Kong dollar                     $  \n",
      "\n",
      "[250 rows x 894 columns]\n"
     ]
    }
   ],
   "source": [
    "# Define API display function\n",
    "\n",
    "def api_response(API_url, response_type):\n",
    "    try:\n",
    "        response = requests.get(API_url)\n",
    "        response.raise_for_status()\n",
    "    \n",
    "    except requests.exceptions.HTTPError as errh:\n",
    "        return \"An Http Error occurred: \" + repr(errh)\n",
    "    except requests.exceptions.ConnectionError as errc:\n",
    "        return \"An Error Connecting to the API occurred: \" + repr(errc)\n",
    "    except requests.exceptions.Timeout as errt:\n",
    "        return \"A Timeout Error occurred: \" + repr(errt)\n",
    "    except requests.exceptions.RequestException as err:\n",
    "        return \"An Unknown Error occurred: \" + repr(err)\n",
    "\n",
    "    if response_type == 'json':\n",
    "        result = json.dumps(response.json(), sort_keys=True, indent=4)\n",
    "    elif response_type == 'dataframe':\n",
    "        result = pd.json_normalize(response.json())\n",
    "    else:\n",
    "        result = \"An unhandled error has occurred!\"\n",
    "        \n",
    "    return result\n",
    "\n",
    "# REST Country API url\n",
    "\n",
    "API_url_all = \"https://restcountries.com/v3.1/all\"\n",
    "\n",
    "# Output type\n",
    "\n",
    "response_type = ['json', 'dataframe']\n",
    "\n",
    "# Convert to df and print\n",
    "\n",
    "REST_Countries_df = api_response(API_url_all, response_type[1])\n",
    "print(REST_Countries_df)"
   ]
  },
  {
   "cell_type": "markdown",
   "metadata": {},
   "source": [
    "### Make an API call to retrieve information for a particular country"
   ]
  },
  {
   "cell_type": "code",
   "execution_count": 3,
   "metadata": {},
   "outputs": [],
   "source": [
    "# General script to input a country name into\n",
    "\n",
    "# url script to use to input a specific country = https://restcountries.com/v3.1/name/{name}\n",
    "# retrieval script = requests.get('https://restcountries.com/v3.1/name/France')"
   ]
  },
  {
   "cell_type": "code",
   "execution_count": 4,
   "metadata": {},
   "outputs": [],
   "source": [
    "# Define output function while gracefully handling errors\n",
    "\n",
    "# Invalid API input call error = 400 error (bad request)\n",
    "# Non-existent countries error = 404 error (resource not on server)\n",
    "\n",
    "def get_api_data(url):\n",
    "    try:\n",
    "        response = requests.get(url)\n",
    "        response.raise_for_status()\n",
    "    \n",
    "    except requests.exceptions.HTTPError as errh:\n",
    "        return \"Country not found, please try again: \" + repr(errh)\n",
    "    except requests.exceptions.ConnectionError as errc:\n",
    "        return \"Invalid API input call, please try again: \" + repr(errc)\n",
    "    except requests.exceptions.Timeout as errt:\n",
    "        return \"A Timeout Error occurred, please try again: \" + repr(errt)\n",
    "    except requests.exceptions.RequestException as err:\n",
    "        return \"An Unknown Error occurred, please try again: \" + repr(err)\n",
    "        \n",
    "    return response.json()"
   ]
  },
  {
   "cell_type": "code",
   "execution_count": 5,
   "metadata": {},
   "outputs": [
    {
     "name": "stdout",
     "output_type": "stream",
     "text": [
      "[{'name': {'common': 'France', 'official': 'French Republic', 'nativeName': {'fra': {'official': 'République française', 'common': 'France'}}}, 'tld': ['.fr'], 'cca2': 'FR', 'ccn3': '250', 'cca3': 'FRA', 'cioc': 'FRA', 'independent': True, 'status': 'officially-assigned', 'unMember': True, 'currencies': {'EUR': {'name': 'Euro', 'symbol': '€'}}, 'idd': {'root': '+3', 'suffixes': ['3']}, 'capital': ['Paris'], 'altSpellings': ['FR', 'French Republic', 'République française'], 'region': 'Europe', 'subregion': 'Western Europe', 'languages': {'fra': 'French'}, 'translations': {'ara': {'official': 'الجمهورية الفرنسية', 'common': 'فرنسا'}, 'bre': {'official': 'Republik Frañs', 'common': 'Frañs'}, 'ces': {'official': 'Francouzská republika', 'common': 'Francie'}, 'cym': {'official': 'French Republic', 'common': 'France'}, 'deu': {'official': 'Französische Republik', 'common': 'Frankreich'}, 'est': {'official': 'Prantsuse Vabariik', 'common': 'Prantsusmaa'}, 'fin': {'official': 'Ranskan tasavalta', 'common': 'Ranska'}, 'fra': {'official': 'République française', 'common': 'France'}, 'hrv': {'official': 'Francuska Republika', 'common': 'Francuska'}, 'hun': {'official': 'Francia Köztársaság', 'common': 'Franciaország'}, 'ita': {'official': 'Repubblica francese', 'common': 'Francia'}, 'jpn': {'official': 'フランス共和国', 'common': 'フランス'}, 'kor': {'official': '프랑스 공화국', 'common': '프랑스'}, 'nld': {'official': 'Franse Republiek', 'common': 'Frankrijk'}, 'per': {'official': 'جمهوری فرانسه', 'common': 'فرانسه'}, 'pol': {'official': 'Republika Francuska', 'common': 'Francja'}, 'por': {'official': 'República Francesa', 'common': 'França'}, 'rus': {'official': 'Французская Республика', 'common': 'Франция'}, 'slk': {'official': 'Francúzska republika', 'common': 'Francúzsko'}, 'spa': {'official': 'República francés', 'common': 'Francia'}, 'srp': {'official': 'Француска Република', 'common': 'Француска'}, 'swe': {'official': 'Republiken Frankrike', 'common': 'Frankrike'}, 'tur': {'official': 'Fransa Cumhuriyeti', 'common': 'Fransa'}, 'urd': {'official': 'جمہوریہ فرانس', 'common': 'فرانس'}, 'zho': {'official': '法兰西共和国', 'common': '法国'}}, 'latlng': [46.0, 2.0], 'landlocked': False, 'borders': ['AND', 'BEL', 'DEU', 'ITA', 'LUX', 'MCO', 'ESP', 'CHE'], 'area': 551695.0, 'demonyms': {'eng': {'f': 'French', 'm': 'French'}, 'fra': {'f': 'Française', 'm': 'Français'}}, 'flag': '🇫🇷', 'maps': {'googleMaps': 'https://goo.gl/maps/g7QxxSFsWyTPKuzd7', 'openStreetMaps': 'https://www.openstreetmap.org/relation/1403916'}, 'population': 67391582, 'gini': {'2018': 32.4}, 'fifa': 'FRA', 'car': {'signs': ['F'], 'side': 'right'}, 'timezones': ['UTC-10:00', 'UTC-09:30', 'UTC-09:00', 'UTC-08:00', 'UTC-04:00', 'UTC-03:00', 'UTC+01:00', 'UTC+02:00', 'UTC+03:00', 'UTC+04:00', 'UTC+05:00', 'UTC+10:00', 'UTC+11:00', 'UTC+12:00'], 'continents': ['Europe'], 'flags': {'png': 'https://flagcdn.com/w320/fr.png', 'svg': 'https://flagcdn.com/fr.svg', 'alt': 'The flag of France is composed of three equal vertical bands of blue, white and red.'}, 'coatOfArms': {'png': 'https://mainfacts.com/media/images/coats_of_arms/fr.png', 'svg': 'https://mainfacts.com/media/images/coats_of_arms/fr.svg'}, 'startOfWeek': 'monday', 'capitalInfo': {'latlng': [48.87, 2.33]}, 'postalCode': {'format': '#####', 'regex': '^(\\\\d{5})$'}}]\n"
     ]
    }
   ],
   "source": [
    "# URL for France specifically\n",
    "\n",
    "API_url = 'https://restcountries.com/v3.1/name/France'\n",
    "\n",
    "# Print all of France data in json format\n",
    "\n",
    "json_data = get_api_data(API_url)\n",
    "print(json_data)"
   ]
  },
  {
   "cell_type": "code",
   "execution_count": 6,
   "metadata": {},
   "outputs": [
    {
     "name": "stdout",
     "output_type": "stream",
     "text": [
      "France capital: 0    [Paris]\n",
      "Name: capital, dtype: object\n",
      "France population: 0    67391582\n",
      "Name: population, dtype: int64\n"
     ]
    }
   ],
   "source": [
    "# Convert France data into a dataframe\n",
    "\n",
    "France_df = pd.DataFrame(json_data)\n",
    "\n",
    "# Extract and display France's capital and population\n",
    "\n",
    "print('France capital:', France_df['capital'])\n",
    "print('France population:', France_df['population'])"
   ]
  },
  {
   "cell_type": "code",
   "execution_count": 7,
   "metadata": {},
   "outputs": [
    {
     "name": "stdout",
     "output_type": "stream",
     "text": [
      "                                         Common Name  \\\n",
      "0  0    {'common': 'France', 'official': 'French ...   \n",
      "\n",
      "                                     Capital  \\\n",
      "0  0    [Paris]\n",
      "Name: capital, dtype: object   \n",
      "\n",
      "                                     Population  \n",
      "0  0    67391582\n",
      "Name: population, dtype: int64  \n"
     ]
    },
    {
     "data": {
      "text/plain": [
       "'\"{\\\\\"Common Name\\\\\":{\\\\\"0\\\\\":{\\\\\"0\\\\\":{\\\\\"common\\\\\":\\\\\"France\\\\\",\\\\\"official\\\\\":\\\\\"French Republic\\\\\",\\\\\"nativeName\\\\\":{\\\\\"fra\\\\\":{\\\\\"official\\\\\":\\\\\"R\\\\\\\\u00e9publique fran\\\\\\\\u00e7aise\\\\\",\\\\\"common\\\\\":\\\\\"France\\\\\"}}}}},\\\\\"Capital\\\\\":{\\\\\"0\\\\\":{\\\\\"0\\\\\":[\\\\\"Paris\\\\\"]}},\\\\\"Population\\\\\":{\\\\\"0\\\\\":{\\\\\"0\\\\\":67391582}}}\"'"
      ]
     },
     "execution_count": 7,
     "metadata": {},
     "output_type": "execute_result"
    }
   ],
   "source": [
    "# Store results in a dataframe and write out to a JSON file\n",
    "\n",
    "# store retrieved results in a new data frame\n",
    "\n",
    "new_df_data = [[France_df['name'], France_df['capital'], France_df['population']]]\n",
    "new_df = pd.DataFrame(new_df_data, columns = ['Common Name', 'Capital', 'Population'])\n",
    "print(new_df)\n",
    "\n",
    "# write out JSON file\n",
    "\n",
    "json_file = new_df.to_json()\n",
    "json.dumps(json_file)"
   ]
  },
  {
   "cell_type": "markdown",
   "metadata": {},
   "source": [
    "# Repeat for another country, appending the data to the existing JSON file"
   ]
  },
  {
   "cell_type": "code",
   "execution_count": 8,
   "metadata": {},
   "outputs": [
    {
     "name": "stdout",
     "output_type": "stream",
     "text": [
      "[{'name': {'common': 'Japan', 'official': 'Japan', 'nativeName': {'jpn': {'official': '日本', 'common': '日本'}}}, 'tld': ['.jp', '.みんな'], 'cca2': 'JP', 'ccn3': '392', 'cca3': 'JPN', 'cioc': 'JPN', 'independent': True, 'status': 'officially-assigned', 'unMember': True, 'currencies': {'JPY': {'name': 'Japanese yen', 'symbol': '¥'}}, 'idd': {'root': '+8', 'suffixes': ['1']}, 'capital': ['Tokyo'], 'altSpellings': ['JP', 'Nippon', 'Nihon'], 'region': 'Asia', 'subregion': 'Eastern Asia', 'languages': {'jpn': 'Japanese'}, 'translations': {'ara': {'official': 'اليابان', 'common': 'اليابان'}, 'bre': {'official': 'Japan', 'common': 'Japan'}, 'ces': {'official': 'Japonsko', 'common': 'Japonsko'}, 'cym': {'official': 'Japan', 'common': 'Japan'}, 'deu': {'official': 'Japan', 'common': 'Japan'}, 'est': {'official': 'Jaapan', 'common': 'Jaapan'}, 'fin': {'official': 'Japani', 'common': 'Japani'}, 'fra': {'official': 'Japon', 'common': 'Japon'}, 'hrv': {'official': 'Japan', 'common': 'Japan'}, 'hun': {'official': 'Japán', 'common': 'Japán'}, 'ita': {'official': 'Giappone', 'common': 'Giappone'}, 'jpn': {'official': '日本', 'common': '日本'}, 'kor': {'official': '일본국', 'common': '일본'}, 'nld': {'official': 'Japan', 'common': 'Japan'}, 'per': {'official': 'ژاپن', 'common': 'ژاپن'}, 'pol': {'official': 'Japonia', 'common': 'Japonia'}, 'por': {'official': 'Japão', 'common': 'Japão'}, 'rus': {'official': 'Япония', 'common': 'Япония'}, 'slk': {'official': 'Japonsko', 'common': 'Japonsko'}, 'spa': {'official': 'Japón', 'common': 'Japón'}, 'srp': {'official': 'Јапан', 'common': 'Јапан'}, 'swe': {'official': 'Japan', 'common': 'Japan'}, 'tur': {'official': 'Japonya', 'common': 'Japonya'}, 'urd': {'official': 'جاپان', 'common': 'جاپان'}, 'zho': {'official': '日本国', 'common': '日本'}}, 'latlng': [36.0, 138.0], 'landlocked': False, 'area': 377930.0, 'demonyms': {'eng': {'f': 'Japanese', 'm': 'Japanese'}, 'fra': {'f': 'Japonaise', 'm': 'Japonais'}}, 'flag': '🇯🇵', 'maps': {'googleMaps': 'https://goo.gl/maps/NGTLSCSrA8bMrvnX9', 'openStreetMaps': 'https://www.openstreetmap.org/relation/382313'}, 'population': 125836021, 'gini': {'2013': 32.9}, 'fifa': 'JPN', 'car': {'signs': ['J'], 'side': 'left'}, 'timezones': ['UTC+09:00'], 'continents': ['Asia'], 'flags': {'png': 'https://flagcdn.com/w320/jp.png', 'svg': 'https://flagcdn.com/jp.svg', 'alt': 'The flag of Japan features a crimson-red circle at the center of a white field.'}, 'coatOfArms': {'png': 'https://mainfacts.com/media/images/coats_of_arms/jp.png', 'svg': 'https://mainfacts.com/media/images/coats_of_arms/jp.svg'}, 'startOfWeek': 'monday', 'capitalInfo': {'latlng': [35.68, 139.75]}, 'postalCode': {'format': '###-####', 'regex': '^(\\\\d{7})$'}}]\n"
     ]
    }
   ],
   "source": [
    "# URL for Japan\n",
    "\n",
    "API_url_2 = 'https://restcountries.com/v3.1/name/Japan'\n",
    "\n",
    "# Print all of Japan data in json format\n",
    "\n",
    "json_data_2 = get_api_data(API_url_2)\n",
    "print(json_data_2)"
   ]
  },
  {
   "cell_type": "code",
   "execution_count": 9,
   "metadata": {},
   "outputs": [],
   "source": [
    "# convert Japan data into a dataframe\n",
    "\n",
    "Japan_df = pd.DataFrame(json_data_2)"
   ]
  },
  {
   "cell_type": "code",
   "execution_count": 10,
   "metadata": {},
   "outputs": [
    {
     "name": "stdout",
     "output_type": "stream",
     "text": [
      "Japan capital: 0    [Tokyo]\n",
      "Name: capital, dtype: object\n",
      "Japan population: 0    125836021\n",
      "Name: population, dtype: int64\n"
     ]
    }
   ],
   "source": [
    "# Extract and display France's capital and population\n",
    "\n",
    "print('Japan capital:', Japan_df['capital'])\n",
    "print('Japan population:', Japan_df['population'])"
   ]
  },
  {
   "cell_type": "code",
   "execution_count": 11,
   "metadata": {},
   "outputs": [
    {
     "name": "stdout",
     "output_type": "stream",
     "text": [
      "                                         Common Name  \\\n",
      "0  0    {'common': 'Japan', 'official': 'Japan', ...   \n",
      "\n",
      "                                     Capital  \\\n",
      "0  0    [Tokyo]\n",
      "Name: capital, dtype: object   \n",
      "\n",
      "                                      Population  \n",
      "0  0    125836021\n",
      "Name: population, dtype: int64  \n"
     ]
    }
   ],
   "source": [
    "# store retrieved results in a new data frame\n",
    "\n",
    "new_df_data_2 = [[Japan_df['name'], Japan_df['capital'], Japan_df['population']]]\n",
    "new_df_2 = pd.DataFrame(new_df_data_2, columns = ['Common Name', 'Capital', 'Population'])\n",
    "print(new_df_2)"
   ]
  },
  {
   "cell_type": "code",
   "execution_count": 12,
   "metadata": {},
   "outputs": [
    {
     "name": "stdout",
     "output_type": "stream",
     "text": [
      "{\"Common Name\":{\"0\":{\"0\":{\"common\":\"France\",\"official\":\"French Republic\",\"nativeName\":{\"fra\":{\"official\":\"R\\u00e9publique fran\\u00e7aise\",\"common\":\"France\"}}}}},\"Capital\":{\"0\":{\"0\":[\"Paris\"]}},\"Population\":{\"0\":{\"0\":67391582}}}{\"Common Name\":{\"0\":{\"0\":{\"common\":\"Japan\",\"official\":\"Japan\",\"nativeName\":{\"jpn\":{\"official\":\"\\u65e5\\u672c\",\"common\":\"\\u65e5\\u672c\"}}}}},\"Capital\":{\"0\":{\"0\":[\"Tokyo\"]}},\"Population\":{\"0\":{\"0\":125836021}}}\n"
     ]
    }
   ],
   "source": [
    "# write out JSON file\n",
    "# append France and Japan outputs together into one JSON file\n",
    "\n",
    "json_file_2 = json_file + new_df_2.to_json()\n",
    "json.dumps(json_file_2)\n",
    "print(json_file_2)"
   ]
  }
 ],
 "metadata": {
  "kernelspec": {
   "display_name": "base",
   "language": "python",
   "name": "python3"
  },
  "language_info": {
   "name": "python",
   "version": "3.11.4"
  }
 },
 "nbformat": 4,
 "nbformat_minor": 2
}
